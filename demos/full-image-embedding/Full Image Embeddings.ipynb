{
 "cells": [
  {
   "cell_type": "code",
   "execution_count": 14,
   "metadata": {},
   "outputs": [],
   "source": [
    "INPUT_BUCKET = \"mihir-fast-queries\"\n",
    "IMAGE_LIST_PATH = \"images.txt\"\n",
    "MAPPER_ENDPOINT = \"https://mihir-demo-full-image-embedding-g6rwrca4fq-uc.a.run.app\"\n",
    "N_MAPPERS = 1000\n",
    "N_RETRIES = 100"
   ]
  },
  {
   "cell_type": "markdown",
   "metadata": {},
   "source": [
    "# Define Reducer"
   ]
  },
  {
   "cell_type": "code",
   "execution_count": 15,
   "metadata": {},
   "outputs": [],
   "source": [
    "from knn import utils\n",
    "from knn.reducers import Reducer\n",
    "\n",
    "class DictReducer(Reducer):\n",
    "    def __init__(self, *args, **kwargs):\n",
    "        super().__init__(*args, **kwargs)\n",
    "        self.embeddings = {}\n",
    "\n",
    "    def handle_result(self, input, output):\n",
    "        self.embeddings[input] = output\n",
    "\n",
    "    @property\n",
    "    def result(self):\n",
    "        return self.embeddings"
   ]
  },
  {
   "cell_type": "markdown",
   "metadata": {},
   "source": [
    "# Perform Rendering"
   ]
  },
  {
   "cell_type": "code",
   "execution_count": null,
   "metadata": {},
   "outputs": [
    {
     "name": "stdout",
     "output_type": "stream",
     "text": [
      "Using chunk size schedule 1 -> 3 -> 5\n"
     ]
    }
   ],
   "source": [
    "from knn.jobs import MapReduceJob\n",
    "from knn.utils import FileListIterator\n",
    "\n",
    "# Run query\n",
    "job = MapReduceJob(\n",
    "    MAPPER_ENDPOINT,\n",
    "    DictReducer(),\n",
    "    {\n",
    "        \"input_bucket\": INPUT_BUCKET,\n",
    "    },\n",
    "    n_mappers=N_MAPPERS,\n",
    "    n_retries=100,\n",
    ")\n",
    "results = await job.run_until_complete(FileListIterator(IMAGE_LIST_PATH))"
   ]
  },
  {
   "cell_type": "code",
   "execution_count": null,
   "metadata": {},
   "outputs": [],
   "source": [
    "len(results)"
   ]
  },
  {
   "cell_type": "code",
   "execution_count": null,
   "metadata": {},
   "outputs": [],
   "source": []
  }
 ],
 "metadata": {
  "kernelspec": {
   "display_name": "Python 3",
   "language": "python",
   "name": "python3"
  },
  "language_info": {
   "codemirror_mode": {
    "name": "ipython",
    "version": 3
   },
   "file_extension": ".py",
   "mimetype": "text/x-python",
   "name": "python",
   "nbconvert_exporter": "python",
   "pygments_lexer": "ipython3",
   "version": "3.8.5"
  }
 },
 "nbformat": 4,
 "nbformat_minor": 2
}
